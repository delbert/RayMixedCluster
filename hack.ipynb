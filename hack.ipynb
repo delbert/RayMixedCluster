{
 "cells": [
  {
   "cell_type": "code",
   "execution_count": null,
   "metadata": {},
   "outputs": [],
   "source": [
    "# Check core SDK version number\n",
    "import azureml.core\n",
    "\n",
    "print( \"SDK version:\" , azureml.core.VERSION )"
   ]
  },
  {
   "cell_type": "code",
   "execution_count": null,
   "metadata": {},
   "outputs": [],
   "source": [
    "from azureml.core import Workspace\n",
    "\n",
    "# Create the workspace using the specified parameters\n",
    "ws = Workspace.from_config()\n",
    "print( ws.name , ws.resource_group , ws.location , ws.subscription_id , sep = '\\n')"
   ]
  },
  {
   "cell_type": "code",
   "execution_count": null,
   "metadata": {},
   "outputs": [],
   "source": [
    "import os\n",
    "from azureml.core import Experiment\n",
    "\n",
    "# choose a name for the run history container in the workspace\n",
    "experiment_name = \"hack\"\n",
    "\n",
    "exp = Experiment( ws , name=experiment_name )\n",
    "\n",
    "# project folder name - the folder that contains all training scripts\n",
    "project_folder = os.path.join( os.getcwd() , experiment_name )\n",
    "print( project_folder )"
   ]
  },
  {
   "cell_type": "code",
   "execution_count": null,
   "metadata": {},
   "outputs": [],
   "source": [
    "from azureml.core.compute import AmlCompute\n",
    "from azureml.core.compute import ComputeTarget\n",
    "from azureml.core.compute_target import ComputeTargetException\n",
    "\n",
    "cluster_name = 'hackcluster'\n",
    "\n",
    "try:\n",
    "    compute_target = ComputeTarget( workspace=ws, name=cluster_name )\n",
    "    print( 'Found existing compute target' )\n",
    "except ComputeTargetException:\n",
    "    print( 'Creating a new compute target...' )\n",
    "    compute_config = AmlCompute.provisioning_configuration( vm_size = \"STANDARD_D2_V2\" ,\n",
    "                                                                min_nodes = 0 ,\n",
    "                                                                max_nodes = 7 )\n",
    "\n",
    "    # create the cluster\n",
    "    compute_target = ComputeTarget.create( ws , cluster_name, compute_config )\n",
    "\n",
    "    compute_target.wait_for_completion( show_output=True )\n",
    "\n",
    "print( compute_target.status.serialize() )"
   ]
  },
  {
   "cell_type": "code",
   "execution_count": null,
   "metadata": {},
   "outputs": [],
   "source": [
    "from azureml.train.estimator import Estimator\n",
    "\n",
    "est = Estimator ( source_directory = project_folder ,\n",
    "                  compute_target = compute_target ,\n",
    "                  node_count = 3 ,\n",
    "                  distributed_backend = \"mpi\" ,\n",
    "                  entry_script = 'launch.py' ,\n",
    "                  pip_packages = [ \"ray==0.6.5\" , \"psutil\" , \"setproctitle\" ] )"
   ]
  },
  {
   "cell_type": "code",
   "execution_count": null,
   "metadata": {},
   "outputs": [],
   "source": [
    "run = exp.submit( est )\n",
    "print( run )"
   ]
  },
  {
   "cell_type": "code",
   "execution_count": null,
   "metadata": {},
   "outputs": [],
   "source": [
    "from azureml.widgets import RunDetails\n",
    "\n",
    "RunDetails( run ).show()"
   ]
  },
  {
   "cell_type": "code",
   "execution_count": null,
   "metadata": {},
   "outputs": [],
   "source": [
    "#cancel the current run\n",
    "run.cancel()"
   ]
  },
  {
   "cell_type": "markdown",
   "metadata": {},
   "source": [
    "## create compute clusters in vnet"
   ]
  },
  {
   "cell_type": "code",
   "execution_count": null,
   "metadata": {},
   "outputs": [],
   "source": [
    "# Check core SDK version number\n",
    "import azureml.core\n",
    "\n",
    "print( \"SDK version:\" , azureml.core.VERSION )"
   ]
  },
  {
   "cell_type": "code",
   "execution_count": null,
   "metadata": {},
   "outputs": [],
   "source": [
    "from azureml.core import Workspace\n",
    "\n",
    "# Create the workspace using the specified parameters\n",
    "ws = Workspace.from_config()\n",
    "print( ws.name , ws.resource_group , ws.location , ws.subscription_id , sep = '\\n')"
   ]
  },
  {
   "cell_type": "code",
   "execution_count": null,
   "metadata": {},
   "outputs": [],
   "source": [
    "import os\n",
    "from azureml.core import Experiment\n",
    "\n",
    "# choose a name for the run history container in the workspace\n",
    "experiment_name = \"vnethack\"\n",
    "\n",
    "exp = Experiment( ws , name=experiment_name )\n",
    "\n",
    "# project folder name - the folder that contains all training scripts\n",
    "project_folder = os.path.join( os.getcwd() , experiment_name )\n",
    "print( project_folder )"
   ]
  },
  {
   "cell_type": "code",
   "execution_count": null,
   "metadata": {},
   "outputs": [],
   "source": [
    "from azureml.core.compute import ComputeTarget, AmlCompute\n",
    "from azureml.core.compute_target import ComputeTargetException\n",
    "\n",
    "# The Azure virtual network name, subnet, and resource group\n",
    "vnet_name = 'mlvnet'\n",
    "subnet_name = 'default'\n",
    "vnet_resourcegroup_name = 'exmachina'\n",
    "\n",
    "# Choose a name for your CPU cluster\n",
    "cpu_cluster_name = \"vnetcpu\"\n",
    "\n",
    "# Verify that cluster does not exist already\n",
    "try:\n",
    "    cpu_cluster = ComputeTarget( workspace=ws, name=cpu_cluster_name )\n",
    "    print( \"Found existing cpucluster\" )\n",
    "except ComputeTargetException:\n",
    "    print( \"Creating new cpucluster\" )\n",
    "    \n",
    "    # Specify the configuration for the new cluster\n",
    "    compute_config = AmlCompute.provisioning_configuration( vm_size = \"STANDARD_D2_V2\" ,\n",
    "                                                           min_nodes = 0 ,\n",
    "                                                           max_nodes = 4 ,\n",
    "                                                           vnet_resourcegroup_name = vnet_resourcegroup_name ,\n",
    "                                                           vnet_name = vnet_name ,\n",
    "                                                           subnet_name = subnet_name )\n",
    "\n",
    "    # Create the cluster with the specified name and configuration\n",
    "    cpu_cluster = ComputeTarget.create( ws , cpu_cluster_name, compute_config )\n",
    "    \n",
    "    # Wait for the cluster to complete, show the output log\n",
    "    cpu_cluster.wait_for_completion( show_output=True )\n",
    "    \n",
    "print( cpu_cluster.status.serialize() )"
   ]
  },
  {
   "cell_type": "code",
   "execution_count": null,
   "metadata": {},
   "outputs": [],
   "source": [
    "from azureml.core.compute import ComputeTarget, AmlCompute\n",
    "from azureml.core.compute_target import ComputeTargetException\n",
    "\n",
    "# The Azure virtual network name, subnet, and resource group\n",
    "vnet_name = 'mlvnet'\n",
    "subnet_name = 'default'\n",
    "vnet_resourcegroup_name = 'exmachina'\n",
    "\n",
    "# Choose a name for your CPU cluster\n",
    "gpu_cluster_name = \"vnetgpu\"\n",
    "\n",
    "# Verify that cluster does not exist already\n",
    "try:\n",
    "    gpu_cluster = ComputeTarget( workspace=ws , name=gpu_cluster_name )\n",
    "    print( \"Found existing gpucluster\" )\n",
    "except ComputeTargetException:\n",
    "    print( \"Creating new gpucluster\" )\n",
    "    \n",
    "    # Specify the configuration for the new cluster\n",
    "    compute_config = AmlCompute.provisioning_configuration( vm_size = \"STANDARD_NC6\" ,\n",
    "                                                           min_nodes = 0 ,\n",
    "                                                           max_nodes = 2 ,\n",
    "                                                           vnet_resourcegroup_name = vnet_resourcegroup_name ,\n",
    "                                                           vnet_name = vnet_name ,\n",
    "                                                           subnet_name = subnet_name )\n",
    "\n",
    "    # Create the cluster with the specified name and configuration\n",
    "    gpu_cluster = ComputeTarget.create( ws, gpu_cluster_name, compute_config )\n",
    "    \n",
    "    # Wait for the cluster to complete, show the output log\n",
    "    gpu_cluster.wait_for_completion( show_output=True )\n",
    "    \n",
    "print( gpu_cluster.status.serialize() )"
   ]
  },
  {
   "cell_type": "code",
   "execution_count": null,
   "metadata": {},
   "outputs": [],
   "source": [
    "from azureml.train.estimator import Estimator\n",
    "\n",
    "cpu_est = Estimator ( source_directory = project_folder ,\n",
    "                  compute_target = cpu_cluster ,\n",
    "                  node_count = 3 ,\n",
    "                  distributed_backend = \"mpi\" ,\n",
    "                  entry_script = 'launch_cpu.py' ,\n",
    "                  pip_packages = [ \"ray==0.6.5\" , \"psutil\" , \"setproctitle\" ] )"
   ]
  },
  {
   "cell_type": "code",
   "execution_count": null,
   "metadata": {},
   "outputs": [],
   "source": [
    "cpu_run = exp.submit( cpu_est )\n",
    "print( cpu_run )"
   ]
  },
  {
   "cell_type": "code",
   "execution_count": null,
   "metadata": {},
   "outputs": [],
   "source": [
    "from azureml.widgets import RunDetails\n",
    "\n",
    "RunDetails( cpu_run ).show()"
   ]
  },
  {
   "cell_type": "code",
   "execution_count": null,
   "metadata": {},
   "outputs": [],
   "source": [
    "from azureml.train.estimator import Estimator\n",
    "\n",
    "gpu_est = Estimator ( source_directory = project_folder ,\n",
    "                  compute_target = gpu_cluster ,\n",
    "                  node_count = 2 ,\n",
    "                  distributed_backend = \"mpi\" ,\n",
    "                  entry_script = 'launch_gpu.py' ,\n",
    "                  pip_packages = [ \"ray==0.6.5\" , \"psutil\" , \"setproctitle\" ] )"
   ]
  },
  {
   "cell_type": "code",
   "execution_count": null,
   "metadata": {},
   "outputs": [],
   "source": [
    "gpu_run = exp.submit( gpu_est )\n",
    "print( gpu_run )"
   ]
  },
  {
   "cell_type": "code",
   "execution_count": null,
   "metadata": {},
   "outputs": [],
   "source": [
    "from azureml.widgets import RunDetails\n",
    "\n",
    "RunDetails( gpu_run ).show()"
   ]
  },
  {
   "cell_type": "code",
   "execution_count": null,
   "metadata": {},
   "outputs": [],
   "source": [
    "#cancel the current run\n",
    "gpu_run.cancel()"
   ]
  },
  {
   "cell_type": "markdown",
   "metadata": {},
   "source": [
    "## create compute clusters with password for ssh"
   ]
  },
  {
   "cell_type": "code",
   "execution_count": null,
   "metadata": {},
   "outputs": [],
   "source": [
    "from azureml.core.compute import ComputeTarget, AmlCompute\n",
    "from azureml.core.compute_target import ComputeTargetException\n",
    "\n",
    "# The Azure virtual network name, subnet, and resource group\n",
    "vnet_name = 'mlvnet'\n",
    "subnet_name = 'default'\n",
    "vnet_resourcegroup_name = 'exmachina'\n",
    "\n",
    "# Choose a name for your CPU cluster\n",
    "cpu_cluster_name = \"vnetcpu\"\n",
    "\n",
    "# Verify that cluster does not exist already\n",
    "try:\n",
    "    cpu_cluster = ComputeTarget( workspace=ws, name=cpu_cluster_name )\n",
    "    print( \"Found existing cpucluster\" )\n",
    "except ComputeTargetException:\n",
    "    print( \"Creating new cpucluster\" )\n",
    "    \n",
    "    # Specify the configuration for the new cluster\n",
    "    compute_config = AmlCompute.provisioning_configuration( vm_size =\"STANDARD_D2_V2\" ,\n",
    "                                                           min_nodes = 0 ,\n",
    "                                                           max_nodes = 4 ,\n",
    "                                                           admin_username = \"themaster\" ,\n",
    "                                                           admin_user_password = \"tardis!42\" ,\n",
    "                                                           vnet_resourcegroup_name = vnet_resourcegroup_name ,\n",
    "                                                           vnet_name = vnet_name ,\n",
    "                                                           subnet_name = subnet_name )\n",
    "\n",
    "    # Create the cluster with the specified name and configuration\n",
    "    cpu_cluster = ComputeTarget.create( ws , cpu_cluster_name, compute_config )\n",
    "    \n",
    "    # Wait for the cluster to complete, show the output log\n",
    "    cpu_cluster.wait_for_completion( show_output=True )\n",
    "    \n",
    "print( cpu_cluster.status.serialize() )"
   ]
  },
  {
   "cell_type": "code",
   "execution_count": null,
   "metadata": {},
   "outputs": [],
   "source": []
  }
 ],
 "metadata": {
  "kernelspec": {
   "display_name": "aml",
   "language": "python",
   "name": "aml"
  },
  "language_info": {
   "codemirror_mode": {
    "name": "ipython",
    "version": 3
   },
   "file_extension": ".py",
   "mimetype": "text/x-python",
   "name": "python",
   "nbconvert_exporter": "python",
   "pygments_lexer": "ipython3",
   "version": "3.6.8"
  }
 },
 "nbformat": 4,
 "nbformat_minor": 2
}
